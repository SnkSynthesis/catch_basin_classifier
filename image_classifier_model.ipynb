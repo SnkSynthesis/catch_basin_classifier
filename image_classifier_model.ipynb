{
 "cells": [
  {
   "cell_type": "markdown",
   "id": "38af7477-7805-4817-81ca-a3a3859c7a2b",
   "metadata": {},
   "source": [
    "# Image Classifier Model\n",
    "An image classifier (part 2 of workflow). The model predicts the classification of a catch basin image (cropped by bounding box predicted by object localizer (part 1 of workflow)).\n",
    "\n",
    "* Input - 70x35x3 numpy array (RGB image of catch basin but cropped to only show bounding box given by object localizer)\n",
    "* Output - blocked (`0`), clear (`1`), or partial (`2`)"
   ]
  },
  {
   "cell_type": "markdown",
   "id": "6d932f27-3d46-4971-ab2d-bd29e3084465",
   "metadata": {},
   "source": [
    "## Imports"
   ]
  },
  {
   "cell_type": "code",
   "execution_count": 28,
   "id": "859a8a8f-5564-4ad4-a791-e6ad37614710",
   "metadata": {},
   "outputs": [],
   "source": [
    "from keras.models import load_model, Sequential, Model\n",
    "import tensorflow as tf\n",
    "from keras import layers\n",
    "from keras.preprocessing.image import img_to_array, load_img\n",
    "import pathlib\n",
    "import numpy as np\n",
    "from PIL import Image, ImageDraw\n",
    "import config\n",
    "import xml.etree.ElementTree as ET\n",
    "from sklearn.utils import shuffle\n",
    "from sklearn.model_selection import train_test_split\n",
    "import pandas as pd\n",
    "import matplotlib.pyplot as plt"
   ]
  },
  {
   "cell_type": "markdown",
   "id": "d4a18e28-0369-433d-a3e8-6236f2c9eaac",
   "metadata": {},
   "source": [
    "## Preparation of Data"
   ]
  },
  {
   "cell_type": "markdown",
   "id": "e5140151-d295-4700-9c15-7dc37105affd",
   "metadata": {},
   "source": [
    "Create dataframe by parsing the PASCAL VOC (XML) files.\n",
    "Each file contains data about the coordinates of bounding\n",
    "boxes, width, height, file name, etc. for each image in `data/`."
   ]
  },
  {
   "cell_type": "code",
   "execution_count": 17,
   "id": "262bb5e9-898e-4bc2-8469-2c8d9d43e8ab",
   "metadata": {},
   "outputs": [
    {
     "data": {
      "text/html": [
       "<div>\n",
       "<style scoped>\n",
       "    .dataframe tbody tr th:only-of-type {\n",
       "        vertical-align: middle;\n",
       "    }\n",
       "\n",
       "    .dataframe tbody tr th {\n",
       "        vertical-align: top;\n",
       "    }\n",
       "\n",
       "    .dataframe thead th {\n",
       "        text-align: right;\n",
       "    }\n",
       "</style>\n",
       "<table border=\"1\" class=\"dataframe\">\n",
       "  <thead>\n",
       "    <tr style=\"text-align: right;\">\n",
       "      <th></th>\n",
       "      <th>filename</th>\n",
       "      <th>name</th>\n",
       "      <th>width</th>\n",
       "      <th>height</th>\n",
       "      <th>xmin</th>\n",
       "      <th>ymin</th>\n",
       "      <th>xmax</th>\n",
       "      <th>ymax</th>\n",
       "    </tr>\n",
       "  </thead>\n",
       "  <tbody>\n",
       "    <tr>\n",
       "      <th>0</th>\n",
       "      <td>01_Clear.JPG</td>\n",
       "      <td>clear</td>\n",
       "      <td>543</td>\n",
       "      <td>708</td>\n",
       "      <td>266</td>\n",
       "      <td>420</td>\n",
       "      <td>362</td>\n",
       "      <td>460</td>\n",
       "    </tr>\n",
       "    <tr>\n",
       "      <th>1</th>\n",
       "      <td>02_Partial.JPG</td>\n",
       "      <td>partial</td>\n",
       "      <td>621</td>\n",
       "      <td>769</td>\n",
       "      <td>202</td>\n",
       "      <td>443</td>\n",
       "      <td>307</td>\n",
       "      <td>490</td>\n",
       "    </tr>\n",
       "    <tr>\n",
       "      <th>2</th>\n",
       "      <td>03_Partial.JPG</td>\n",
       "      <td>partial</td>\n",
       "      <td>594</td>\n",
       "      <td>797</td>\n",
       "      <td>292</td>\n",
       "      <td>535</td>\n",
       "      <td>428</td>\n",
       "      <td>579</td>\n",
       "    </tr>\n",
       "    <tr>\n",
       "      <th>3</th>\n",
       "      <td>04_Clear.JPG</td>\n",
       "      <td>clear</td>\n",
       "      <td>531</td>\n",
       "      <td>779</td>\n",
       "      <td>81</td>\n",
       "      <td>462</td>\n",
       "      <td>210</td>\n",
       "      <td>550</td>\n",
       "    </tr>\n",
       "    <tr>\n",
       "      <th>4</th>\n",
       "      <td>05_Partial.JPG</td>\n",
       "      <td>partial</td>\n",
       "      <td>537</td>\n",
       "      <td>678</td>\n",
       "      <td>153</td>\n",
       "      <td>519</td>\n",
       "      <td>291</td>\n",
       "      <td>578</td>\n",
       "    </tr>\n",
       "  </tbody>\n",
       "</table>\n",
       "</div>"
      ],
      "text/plain": [
       "         filename     name  width  height  xmin  ymin  xmax  ymax\n",
       "0    01_Clear.JPG    clear    543     708   266   420   362   460\n",
       "1  02_Partial.JPG  partial    621     769   202   443   307   490\n",
       "2  03_Partial.JPG  partial    594     797   292   535   428   579\n",
       "3    04_Clear.JPG    clear    531     779    81   462   210   550\n",
       "4  05_Partial.JPG  partial    537     678   153   519   291   578"
      ]
     },
     "execution_count": 17,
     "metadata": {},
     "output_type": "execute_result"
    }
   ],
   "source": [
    "columns = (\"filename\", \"name\", \"width\", \"height\", \"xmin\", \"ymin\", \"xmax\", \"ymax\")\n",
    "rows = []\n",
    "\n",
    "for path in pathlib.Path('data').glob('*.xml'):\n",
    "    tree = ET.parse(str(path))\n",
    "    root = tree.getroot()\n",
    "    filename = root.find(\"filename\").text\n",
    "    for obj in root.findall(\"object\"):\n",
    "        row = []\n",
    "        row.append(filename)\n",
    "        row.append(obj.find(\"name\").text)\n",
    "        row.append(int(root.find(\"size\").find(\"width\").text))\n",
    "        row.append(int(root.find(\"size\").find(\"height\").text))\n",
    "        for i in obj.find(\"bndbox\"):\n",
    "            row.append(int(i.text))\n",
    "        rows.append(row)\n",
    "\n",
    "df = pd.DataFrame(rows, columns=columns)\n",
    "df.head()"
   ]
  },
  {
   "cell_type": "code",
   "execution_count": 18,
   "id": "bcb5daba-9605-4deb-a326-c991c1ed93a0",
   "metadata": {},
   "outputs": [],
   "source": [
    "df = shuffle(df)"
   ]
  },
  {
   "cell_type": "code",
   "execution_count": 31,
   "id": "e52b5999-567d-4c4e-a43e-f877d392796d",
   "metadata": {},
   "outputs": [
    {
     "data": {
      "image/png": "[encoded data removed]",
      "text/plain": [
       "<PIL.Image.Image image mode=RGB size=70x35 at 0x1946F242A30>"
      ]
     },
     "execution_count": 31,
     "metadata": {},
     "output_type": "execute_result"
    }
   ],
   "source": [
    "def crop_and_resize_img(row):\n",
    "    img = load_img(pathlib.Path('data', row['filename']), target_size=object_localizer_config.image_size)\n",
    "    img_arr = img_to_array(img)\n",
    "    img_arr = np.expand_dims(img_arr, axis=0)\n",
    "    bbox = np.asarray(row[['xmin', 'ymin', 'xmax', 'ymax']])\n",
    "    bbox[0] /= row['width']\n",
    "    bbox[1] /= row['height']\n",
    "    bbox[2] /= row['width']\n",
    "    bbox[3] /= row['height']\n",
    "    bbox *= config.object_localizer_image_size[0]\n",
    "    return img.crop(tuple(bbox)).resize(config.image_classifier_image_size)\n",
    "\n",
    "crop_and_resize_img(df.iloc[1])"
   ]
  },
  {
   "cell_type": "code",
   "execution_count": 32,
   "id": "cced5250-666a-4249-bb76-77ed14ff4781",
   "metadata": {},
   "outputs": [
    {
     "data": {
      "text/plain": [
       "array([0., 0., 1.])"
      ]
     },
     "execution_count": 32,
     "metadata": {},
     "output_type": "execute_result"
    }
   ],
   "source": [
    "def to_categorical(name):\n",
    "    if name == 'blocked':\n",
    "        return np.array([1., 0., 0.])\n",
    "    elif name == 'clear':\n",
    "        return np.array([0., 1., 0.])\n",
    "    elif name == 'partial':\n",
    "        return np.array([0., 0., 1.])\n",
    "    else:\n",
    "        raise Exception('Invalid name')\n",
    "    \n",
    "to_categorical('partial')"
   ]
  },
  {
   "cell_type": "code",
   "execution_count": 44,
   "id": "b24cac25-dbb0-4ce1-b478-bdcde21e0525",
   "metadata": {},
   "outputs": [],
   "source": [
    "X_list = []\n",
    "Y_list = []\n",
    "for i in range(len(df)):\n",
    "    img = crop_and_resize_img(df.iloc[i])\n",
    "    X_list.append(img_to_array(img))\n",
    "    X_list.append(img_to_array(img.transpose(Image.FLIP_LEFT_RIGHT)))\n",
    "    Y_list.append(to_categorical(df.iloc[i]['name']))\n",
    "    Y_list.append(to_categorical(df.iloc[i]['name']))\n",
    "\n",
    "X = np.asarray(X_list)\n",
    "Y = np.asarray(Y_list)"
   ]
  },
  {
   "cell_type": "markdown",
   "id": "02e7a2f7-a480-4280-846e-a1d2553c15b3",
   "metadata": {},
   "source": [
    "## Construction of the Model\n",
    "A convolutional neural network is constructed. A `Rescaling` Layer is added to normalize `RGB` values. "
   ]
  },
  {
   "cell_type": "code",
   "execution_count": 50,
   "id": "599c3331-0e17-4e94-a742-a49bbc071227",
   "metadata": {
    "tags": []
   },
   "outputs": [
    {
     "name": "stdout",
     "output_type": "stream",
     "text": [
      "Model: \"sequential_8\"\n",
      "_________________________________________________________________\n",
      "Layer (type)                 Output Shape              Param #   \n",
      "=================================================================\n",
      "rescaling_8 (Rescaling)      (None, 35, 70, 3)         0         \n",
      "_________________________________________________________________\n",
      "conv2d_24 (Conv2D)           (None, 35, 70, 16)        448       \n",
      "_________________________________________________________________\n",
      "max_pooling2d_24 (MaxPooling (None, 17, 35, 16)        0         \n",
      "_________________________________________________________________\n",
      "conv2d_25 (Conv2D)           (None, 17, 35, 32)        4640      \n",
      "_________________________________________________________________\n",
      "max_pooling2d_25 (MaxPooling (None, 8, 17, 32)         0         \n",
      "_________________________________________________________________\n",
      "conv2d_26 (Conv2D)           (None, 8, 17, 64)         18496     \n",
      "_________________________________________________________________\n",
      "max_pooling2d_26 (MaxPooling (None, 4, 8, 64)          0         \n",
      "_________________________________________________________________\n",
      "flatten_4 (Flatten)          (None, 2048)              0         \n",
      "_________________________________________________________________\n",
      "dense_16 (Dense)             (None, 33)                67617     \n",
      "_________________________________________________________________\n",
      "dense_17 (Dense)             (None, 3)                 102       \n",
      "=================================================================\n",
      "Total params: 91,303\n",
      "Trainable params: 91,303\n",
      "Non-trainable params: 0\n",
      "_________________________________________________________________\n"
     ]
    }
   ],
   "source": [
    "model = Sequential([\n",
    "    layers.Rescaling(1./255, input_shape=(*config.image_classifier_image_size[::-1], 3)),\n",
    "    layers.Conv2D(16, 3, padding='same', activation='relu'),\n",
    "    layers.MaxPooling2D(),\n",
    "    layers.Conv2D(32, 3, padding='same', activation='relu'),\n",
    "    layers.MaxPooling2D(),\n",
    "    layers.Conv2D(64, 3, padding='same', activation='relu'),\n",
    "    layers.MaxPooling2D(),\n",
    "    layers.Flatten(),\n",
    "    layers.Dense(33, activation='sigmoid'),\n",
    "    layers.Dense(3, activation='softmax')\n",
    "])\n",
    "\n",
    "model.compile(optimizer=tf.keras.optimizers.Adam(),\n",
    "              loss=tf.keras.losses.CategoricalCrossentropy(),\n",
    "              metrics=['accuracy'])\n",
    "\n",
    "model.summary()"
   ]
  },
  {
   "cell_type": "markdown",
   "id": "c3764427-0469-450f-a5f5-44ccdcb08ff4",
   "metadata": {},
   "source": [
    "## Training"
   ]
  },
  {
   "cell_type": "code",
   "execution_count": 51,
   "id": "497a19f4-62d7-42e2-b289-50f775ae2c96",
   "metadata": {},
   "outputs": [
    {
     "name": "stdout",
     "output_type": "stream",
     "text": [
      "Epoch 1/10\n",
      "161/161 [==============================] - 1s 4ms/step - loss: 1.1919 - accuracy: 0.3851 - val_loss: 1.0580 - val_accuracy: 0.4390\n",
      "Epoch 2/10\n",
      "161/161 [==============================] - 1s 3ms/step - loss: 1.0142 - accuracy: 0.4783 - val_loss: 1.0100 - val_accuracy: 0.4878\n",
      "Epoch 3/10\n",
      "161/161 [==============================] - 1s 3ms/step - loss: 1.0511 - accuracy: 0.4410 - val_loss: 1.0057 - val_accuracy: 0.4634\n",
      "Epoch 4/10\n",
      "161/161 [==============================] - 1s 3ms/step - loss: 0.9610 - accuracy: 0.4596 - val_loss: 0.9741 - val_accuracy: 0.3415\n",
      "Epoch 5/10\n",
      "161/161 [==============================] - 1s 3ms/step - loss: 0.9390 - accuracy: 0.5031 - val_loss: 1.0616 - val_accuracy: 0.3902\n",
      "Epoch 6/10\n",
      "161/161 [==============================] - 1s 3ms/step - loss: 0.8565 - accuracy: 0.6211 - val_loss: 1.0096 - val_accuracy: 0.5366\n",
      "Epoch 7/10\n",
      "161/161 [==============================] - 1s 3ms/step - loss: 0.9700 - accuracy: 0.4783 - val_loss: 1.0408 - val_accuracy: 0.5122\n",
      "Epoch 8/10\n",
      "161/161 [==============================] - 1s 3ms/step - loss: 0.8296 - accuracy: 0.5839 - val_loss: 0.9748 - val_accuracy: 0.4390\n",
      "Epoch 9/10\n",
      "161/161 [==============================] - 1s 3ms/step - loss: 0.7673 - accuracy: 0.5839 - val_loss: 1.0038 - val_accuracy: 0.3902\n",
      "Epoch 10/10\n",
      "161/161 [==============================] - 1s 3ms/step - loss: 0.7027 - accuracy: 0.6460 - val_loss: 1.0869 - val_accuracy: 0.5366\n"
     ]
    }
   ],
   "source": [
    "epochs = 10\n",
    "\n",
    "history = model.fit(\n",
    "    x=X,\n",
    "    y=Y,\n",
    "    validation_split=0.2,\n",
    "    epochs=epochs,\n",
    "    batch_size=1\n",
    ")"
   ]
  },
  {
   "cell_type": "markdown",
   "id": "d2352ff6-e8eb-4956-bee1-9036b12437e0",
   "metadata": {},
   "source": [
    "## Training Analysis\n",
    "See how the model did. "
   ]
  },
  {
   "cell_type": "markdown",
   "id": "8c2a263d-b84e-482b-9d15-8a70a5e9b6f5",
   "metadata": {},
   "source": [
    "Collect metrics."
   ]
  },
  {
   "cell_type": "code",
   "execution_count": 52,
   "id": "ecfcc00d-c323-410e-b4e3-6e51162681b0",
   "metadata": {},
   "outputs": [],
   "source": [
    "acc = history.history['accuracy']\n",
    "val_acc = history.history['val_accuracy']\n",
    "loss = history.history['loss']\n",
    "val_loss = history.history['val_loss']"
   ]
  },
  {
   "cell_type": "markdown",
   "id": "fa38143e-5203-45ff-9fbf-788f2b306d29",
   "metadata": {},
   "source": [
    "Graph the metrics"
   ]
  },
  {
   "cell_type": "code",
   "execution_count": 53,
   "id": "aa4cb909-e695-447b-a97c-e7641de29323",
   "metadata": {},
   "outputs": [
    {
     "data": {
      "image/png": "[encoded data removed]",
      "text/plain": [
       "<Figure size 720x360 with 2 Axes>"
      ]
     },
     "metadata": {
      "needs_background": "light"
     },
     "output_type": "display_data"
    }
   ],
   "source": [
    "plt.figure(figsize=(10, 5))\n",
    "plt.subplot(1, 2, 1)\n",
    "plt.plot(acc, label='Training Accuracy')\n",
    "plt.plot(val_acc, label='Validation Accuracy')\n",
    "plt.legend()\n",
    "plt.subplot(1, 2, 2)\n",
    "plt.plot(loss, label='Training Loss')\n",
    "plt.plot(val_loss, label='Validation Loss')\n",
    "plt.legend()\n",
    "plt.show()"
   ]
  },
  {
   "cell_type": "markdown",
   "id": "9e7ee63d-6ed3-45da-ad87-3fb548d99c2a",
   "metadata": {},
   "source": [
    "Print out metrics such as accuracy and loss."
   ]
  },
  {
   "cell_type": "code",
   "execution_count": 54,
   "id": "69372d48-98c5-4e03-abe8-4a7dbce10b71",
   "metadata": {},
   "outputs": [
    {
     "name": "stdout",
     "output_type": "stream",
     "text": [
      "accuracy: 0.6459627151489258 val_accuracy: 0.5365853905677795\n",
      "loss 0.7026920914649963 val_loss: 1.0869237184524536\n"
     ]
    }
   ],
   "source": [
    "print('accuracy:', acc[-1], 'val_accuracy:', val_acc[-1])\n",
    "print('loss', loss[-1], 'val_loss:', val_loss[-1])"
   ]
  },
  {
   "cell_type": "markdown",
   "id": "4dc3f4c8-1eb2-4e14-becb-0d610bce49a9",
   "metadata": {},
   "source": [
    "## Saving the Model\n",
    "The model is saved so that it can be loaded again for future use."
   ]
  },
  {
   "cell_type": "code",
   "execution_count": 55,
   "id": "a731a9a7-42a8-479a-955a-314541c9e224",
   "metadata": {},
   "outputs": [],
   "source": [
    "saved_models = pathlib.Path.cwd() / 'saved_models' / 'image_classifier_models'\n",
    "if not saved_models.exists():\n",
    "    saved_models.mkdir()"
   ]
  },
  {
   "cell_type": "markdown",
   "id": "174fc6e7-8f9f-47ae-9838-6084e035acb0",
   "metadata": {},
   "source": [
    "The following format is used for saving: `model-{num}-{acc}-{val_acc}-{loss}-{val_loss}`"
   ]
  },
  {
   "cell_type": "code",
   "execution_count": 56,
   "id": "7873d260-fde2-4ee9-8d28-9264592edba8",
   "metadata": {},
   "outputs": [
    {
     "name": "stdout",
     "output_type": "stream",
     "text": [
      "INFO:tensorflow:Assets written to: C:\\Users\\SA\\Desktop\\Programming\\projects\\catch_basin_classifier\\saved_models\\image_classifier_models\\model-0-0.65-0.54-0.7-1.09\\assets\n"
     ]
    }
   ],
   "source": [
    "fmt = f'{round(acc[-1], 2)}-{round(val_acc[-1], 2)}-{round(loss[-1], 2)}-{round(val_loss[-1], 2)}'\n",
    "\n",
    "model_dirs = list(saved_models.iterdir())\n",
    "if len(model_dirs) == 0: \n",
    "    model.save(saved_models / f'model-0-{fmt}')\n",
    "else:\n",
    "    num_strs = map(lambda x: x.name[len(\"model-\")], saved_models.iterdir())\n",
    "    num = max(list(map(lambda x: int(x), num_strs))) + 1\n",
    "    model.save(saved_models / f'model-{num}-{fmt}')"
   ]
  }
 ],
 "metadata": {
  "kernelspec": {
   "display_name": "Python 3",
   "language": "python",
   "name": "python3"
  },
  "language_info": {
   "codemirror_mode": {
    "name": "ipython",
    "version": 3
   },
   "file_extension": ".py",
   "mimetype": "text/x-python",
   "name": "python",
   "nbconvert_exporter": "python",
   "pygments_lexer": "ipython3",
   "version": "3.9.9"
  }
 },
 "nbformat": 4,
 "nbformat_minor": 5
}

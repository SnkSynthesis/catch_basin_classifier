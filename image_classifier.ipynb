{
 "cells": [
  {
   "cell_type": "markdown",
   "metadata": {},
   "source": [
    "# Catch Basin Classifier\n",
    "An image classifier written in Python with Tensorflow. Classifies catch basins in 3 classes.\n",
    "\n",
    "The three classes are:\n",
    "* `blocked` 🠊 0\n",
    "* `clear` 🠊 1\n",
    "* `partial` 🠊 2"
   ]
  },
  {
   "cell_type": "markdown",
   "metadata": {},
   "source": [
    "## Imports"
   ]
  },
  {
   "cell_type": "code",
   "execution_count": 1,
   "metadata": {},
   "outputs": [],
   "source": [
    "import tensorflow as tf\n",
    "from keras.models import Sequential\n",
    "from keras import layers\n",
    "from keras.preprocessing.image import ImageDataGenerator, load_img, img_to_array\n",
    "from keras.losses import CategoricalCrossentropy\n",
    "from PIL import Image\n",
    "from glob import glob\n",
    "import tensorflow as tf\n",
    "import numpy as np\n",
    "import matplotlib.pyplot as plt\n",
    "import pathlib"
   ]
  },
  {
   "cell_type": "markdown",
   "metadata": {},
   "source": [
    "## Compute Average Image Size\n",
    "The average image size is computed to ensure that all images are of the same width and height. This will be done by resizing all the images to the average dimension."
   ]
  },
  {
   "cell_type": "code",
   "execution_count": 2,
   "metadata": {},
   "outputs": [],
   "source": [
    "widths = []\n",
    "heights = []\n",
    "\n",
    "for path in glob('data/**/**/*.JPG'):\n",
    "    with Image.open(path) as img:\n",
    "        widths.append(img.width)\n",
    "        heights.append(img.height)"
   ]
  },
  {
   "cell_type": "code",
   "execution_count": 138,
   "metadata": {},
   "outputs": [],
   "source": [
    "image_size = round(sum(widths) / len(widths)), round(sum(heights) / len(heights))\n",
    "image_size = (180, 180)"
   ]
  },
  {
   "cell_type": "markdown",
   "metadata": {},
   "source": [
    "## Load and Prepare Data\n",
    "Load the data and split into two groups: *training* and *validation*"
   ]
  },
  {
   "cell_type": "code",
   "execution_count": 174,
   "metadata": {},
   "outputs": [
    {
     "name": "stdout",
     "output_type": "stream",
     "text": [
      "Found 258 files belonging to 3 classes.\n",
      "Found 50 files belonging to 3 classes.\n",
      "['blocked', 'clear', 'partial']\n",
      "['blocked', 'clear', 'partial']\n"
     ]
    }
   ],
   "source": [
    "training_dataset = tf.keras.utils.image_dataset_from_directory(\"augmented_data\", image_size=image_size, batch_size=16)\n",
    "validation_dataset = tf.keras.utils.image_dataset_from_directory(\"data/validation\", image_size=image_size, batch_size=16)\n",
    "\n",
    "# Get list of classnames to verify that the class names were interpreted correctly\n",
    "print(training_dataset.class_names)\n",
    "print(validation_dataset.class_names)\n",
    "\n",
    "# training_datagen = ImageDataGenerator(rescale=1/255.0)\n",
    "# training_generator = training_datagen.flow_from_directory(\n",
    "#     'augmented_data',\n",
    "#     classes=['blocked', 'clear', 'partial'],\n",
    "#     batch_size=32,\n",
    "#     class_mode='categorical',\n",
    "#     target_size=image_size\n",
    "# )\n",
    "\n",
    "# validation_datagen = ImageDataGenerator(rescale=1/255.0)\n",
    "# validation_generator = validation_datagen.flow_from_directory(\n",
    "#     'validation_data',\n",
    "#     classes=['blocked', 'clear', 'partial'],\n",
    "#     batch_size=32,\n",
    "#     class_mode='categorical',\n",
    "#     target_size=image_size,\n",
    "# )"
   ]
  },
  {
   "cell_type": "code",
   "execution_count": 175,
   "metadata": {},
   "outputs": [],
   "source": [
    "AUTOTUNE = tf.data.AUTOTUNE\n",
    "training_dataset = training_dataset.cache().shuffle(1000).prefetch(buffer_size=AUTOTUNE)\n",
    "validation_dataset = validation_dataset.cache().prefetch(buffer_size=AUTOTUNE)"
   ]
  },
  {
   "cell_type": "code",
   "execution_count": 176,
   "metadata": {},
   "outputs": [
    {
     "name": "stdout",
     "output_type": "stream",
     "text": [
      "(16, 180, 180, 3)\n",
      "(2, 180, 180, 3)\n",
      "(16, 180, 180, 3)\n",
      "(16, 180, 180, 3)\n"
     ]
    }
   ],
   "source": [
    "for images, labels in training_dataset.take(4):\n",
    "    print(images.shape)"
   ]
  },
  {
   "cell_type": "markdown",
   "metadata": {},
   "source": [
    "## Construction of the Model\n",
    "Contruct a convolutional neural network. A `Rescaling` Layer is added to normalize `RGB` values. "
   ]
  },
  {
   "cell_type": "code",
   "execution_count": 202,
   "metadata": {
    "tags": []
   },
   "outputs": [
    {
     "name": "stdout",
     "output_type": "stream",
     "text": [
      "Model: \"sequential_36\"\n",
      "_________________________________________________________________\n",
      "Layer (type)                 Output Shape              Param #   \n",
      "=================================================================\n",
      "rescaling_36 (Rescaling)     (None, 180, 180, 3)       0         \n",
      "_________________________________________________________________\n",
      "conv2d_108 (Conv2D)          (None, 180, 180, 16)      448       \n",
      "_________________________________________________________________\n",
      "max_pooling2d_108 (MaxPoolin (None, 90, 90, 16)        0         \n",
      "_________________________________________________________________\n",
      "conv2d_109 (Conv2D)          (None, 90, 90, 32)        4640      \n",
      "_________________________________________________________________\n",
      "max_pooling2d_109 (MaxPoolin (None, 45, 45, 32)        0         \n",
      "_________________________________________________________________\n",
      "conv2d_110 (Conv2D)          (None, 45, 45, 64)        18496     \n",
      "_________________________________________________________________\n",
      "max_pooling2d_110 (MaxPoolin (None, 22, 22, 64)        0         \n",
      "_________________________________________________________________\n",
      "flatten_36 (Flatten)         (None, 30976)             0         \n",
      "_________________________________________________________________\n",
      "dense_72 (Dense)             (None, 128)               3965056   \n",
      "_________________________________________________________________\n",
      "dropout (Dropout)            (None, 128)               0         \n",
      "_________________________________________________________________\n",
      "dense_73 (Dense)             (None, 3)                 387       \n",
      "=================================================================\n",
      "Total params: 3,989,027\n",
      "Trainable params: 3,989,027\n",
      "Non-trainable params: 0\n",
      "_________________________________________________________________\n"
     ]
    }
   ],
   "source": [
    "model = Sequential([\n",
    "    layers.Rescaling(1./255, input_shape=(*image_size, 3)),\n",
    "    layers.Conv2D(16, 3, padding='same', activation='relu'),\n",
    "    layers.MaxPooling2D(),\n",
    "    layers.Conv2D(32, 3, padding='same', activation='relu'),\n",
    "    layers.MaxPooling2D(),\n",
    "    layers.Conv2D(64, 3, padding='same', activation='relu'),\n",
    "    layers.MaxPooling2D(),\n",
    "    layers.Flatten(),\n",
    "    layers.Dense(128, activation='relu'),\n",
    "    layers.Dropout(0.5),\n",
    "    layers.Dense(3)\n",
    "])\n",
    "\n",
    "model.compile(optimizer='adam',\n",
    "              loss=tf.keras.losses.SparseCategoricalCrossentropy(from_logits=True),\n",
    "              metrics=['accuracy'])\n",
    "\n",
    "model.summary()\n"
   ]
  },
  {
   "cell_type": "markdown",
   "metadata": {},
   "source": [
    "## Training\n",
    "Begin training the model with `training_dataset` and `validation_dataset`"
   ]
  },
  {
   "cell_type": "code",
   "execution_count": 203,
   "metadata": {},
   "outputs": [
    {
     "name": "stdout",
     "output_type": "stream",
     "text": [
      "Epoch 1/35\n",
      "17/17 [==============================] - 4s 238ms/step - loss: 1.3935 - accuracy: 0.3566 - val_loss: 1.0995 - val_accuracy: 0.3600\n",
      "Epoch 2/35\n",
      "17/17 [==============================] - 4s 236ms/step - loss: 1.0986 - accuracy: 0.3295 - val_loss: 1.0990 - val_accuracy: 0.2200\n",
      "Epoch 3/35\n",
      "17/17 [==============================] - 4s 237ms/step - loss: 1.0988 - accuracy: 0.3527 - val_loss: 1.0990 - val_accuracy: 0.2400\n",
      "Epoch 4/35\n",
      "17/17 [==============================] - 4s 235ms/step - loss: 1.0991 - accuracy: 0.3178 - val_loss: 1.0975 - val_accuracy: 0.4200\n",
      "Epoch 5/35\n",
      "17/17 [==============================] - 4s 235ms/step - loss: 1.0991 - accuracy: 0.3178 - val_loss: 1.0976 - val_accuracy: 0.4200\n",
      "Epoch 6/35\n",
      "17/17 [==============================] - 4s 236ms/step - loss: 1.0987 - accuracy: 0.3256 - val_loss: 1.0972 - val_accuracy: 0.4200\n",
      "Epoch 7/35\n",
      "17/17 [==============================] - 4s 256ms/step - loss: 1.0988 - accuracy: 0.3256 - val_loss: 1.0971 - val_accuracy: 0.4200\n",
      "Epoch 8/35\n",
      "17/17 [==============================] - 4s 262ms/step - loss: 1.0990 - accuracy: 0.3295 - val_loss: 1.0964 - val_accuracy: 0.4200\n",
      "Epoch 9/35\n",
      "17/17 [==============================] - 4s 262ms/step - loss: 1.0991 - accuracy: 0.3256 - val_loss: 1.0969 - val_accuracy: 0.4200\n"
     ]
    }
   ],
   "source": [
    "epochs = 35\n",
    "\n",
    "reduce_lr = tf.keras.callbacks.ReduceLROnPlateau(monitor='val_loss', mode='max', factor=0.2, patience=3, min_lr=0.001)\n",
    "early_stop = tf.keras.callbacks.EarlyStopping(monitor='val_accuracy', patience=5)\n",
    "\n",
    "history = model.fit(\n",
    "    training_dataset,\n",
    "    validation_data=validation_dataset,\n",
    "    epochs=epochs,\n",
    "    callbacks=[reduce_lr, early_stop]\n",
    ")"
   ]
  },
  {
   "cell_type": "markdown",
   "metadata": {},
   "source": [
    "## Training Analysis\n",
    "See how the model did. "
   ]
  },
  {
   "cell_type": "markdown",
   "metadata": {},
   "source": [
    "Collect metrics."
   ]
  },
  {
   "cell_type": "code",
   "execution_count": 192,
   "metadata": {},
   "outputs": [],
   "source": [
    "acc = history.history['accuracy']\n",
    "val_acc = history.history['val_accuracy']\n",
    "loss = history.history['loss']\n",
    "val_loss = history.history['val_loss']"
   ]
  },
  {
   "cell_type": "markdown",
   "metadata": {},
   "source": [
    "Graph the metrics"
   ]
  },
  {
   "cell_type": "code",
   "execution_count": 193,
   "metadata": {},
   "outputs": [
    {
     "data": {
      "image/png": "[encoded data removed]",
      "text/plain": [
       "<Figure size 720x360 with 2 Axes>"
      ]
     },
     "metadata": {
      "needs_background": "light"
     },
     "output_type": "display_data"
    }
   ],
   "source": [
    "plt.figure(figsize=(10, 5))\n",
    "plt.subplot(1, 2, 1)\n",
    "plt.plot(acc, label='Training Accuracy')\n",
    "plt.plot(val_acc, label='Validation Accuracy')\n",
    "plt.legend()\n",
    "plt.subplot(1, 2, 2)\n",
    "plt.plot(loss, label='Training Loss')\n",
    "plt.plot(val_loss, label='Validation Loss')\n",
    "plt.legend()\n",
    "plt.show()"
   ]
  },
  {
   "cell_type": "markdown",
   "metadata": {},
   "source": [
    "Print out metrics such as accuracy and loss."
   ]
  },
  {
   "cell_type": "code",
   "execution_count": 95,
   "metadata": {},
   "outputs": [
    {
     "name": "stdout",
     "output_type": "stream",
     "text": [
      "accuracy: 0.3450980484485626 val_accuracy: 0.30000001192092896\n",
      "loss 1.0941025018692017 val_loss: 1.0975168943405151\n"
     ]
    }
   ],
   "source": [
    "print('accuracy:', acc[-1], 'val_accuracy:', val_acc[-1])\n",
    "print('loss', loss[-1], 'val_loss:', val_loss[-1])"
   ]
  },
  {
   "cell_type": "code",
   "execution_count": 98,
   "metadata": {},
   "outputs": [
    {
     "name": "stdout",
     "output_type": "stream",
     "text": [
      "[[ 0.03794     0.10003931 -0.0187835 ]]\n"
     ]
    },
    {
     "data": {
      "text/plain": [
       "1"
      ]
     },
     "execution_count": 98,
     "metadata": {},
     "output_type": "execute_result"
    }
   ],
   "source": [
    "img = load_img('validation_images/GSV_Lents/10_Blocked.JPG', target_size=image_size)\n",
    "img_arr = img_to_array(img)\n",
    "img_arr = np.expand_dims(img_arr, axis=0)\n",
    "img_arr /= 255.\n",
    "pred = model.predict(img_arr)\n",
    "print(pred)\n",
    "np.argmax(tf.nn.softmax(pred))"
   ]
  },
  {
   "cell_type": "markdown",
   "metadata": {},
   "source": [
    "## Save the Model\n",
    "Save the model so that it can be loaded again for future use."
   ]
  },
  {
   "cell_type": "code",
   "execution_count": 31,
   "metadata": {},
   "outputs": [
    {
     "name": "stdout",
     "output_type": "stream",
     "text": [
      "INFO:tensorflow:Assets written to: C:\\Users\\SA\\Desktop\\Programming\\projects\\catch_basin_classifier\\saved_models\\model-0\\assets\n"
     ]
    }
   ],
   "source": [
    "saved_models = pathlib.Path.cwd() / 'saved_models'\n",
    "if not saved_models.exists():\n",
    "    saved_models.mkdir()\n",
    "\n",
    "\n",
    "model_dirs = list(saved_models.iterdir())\n",
    "if len(model_dirs) == 0: \n",
    "    model.save(saved_models / 'model-0')\n",
    "else:\n",
    "    num_strs = map(lambda x: x[len(\"model-\")], saved_models.iterdir())\n",
    "    num = max(list(map(lambda x: int(x), num_strs))) + 1\n",
    "    model.save(saved_models / f'model-{num}')"
   ]
  }
 ],
 "metadata": {
  "interpreter": {
   "hash": "2df7cac29cf8c954e3b838d1ae23efc6dc513b8c37df1857e4dd2dc61cf098bb"
  },
  "kernelspec": {
   "display_name": "Python 3",
   "language": "python",
   "name": "python3"
  },
  "language_info": {
   "codemirror_mode": {
    "name": "ipython",
    "version": 3
   },
   "file_extension": ".py",
   "mimetype": "text/x-python",
   "name": "python",
   "nbconvert_exporter": "python",
   "pygments_lexer": "ipython3",
   "version": "3.9.9"
  }
 },
 "nbformat": 4,
 "nbformat_minor": 4
}

{
 "cells": [
  {
   "cell_type": "markdown",
   "metadata": {},
   "source": [
    "# Catch Basin Classifier\n",
    "An image classifier written in Python with Tensorflow. Classifies catch basins in 3 classes.\n",
    "\n",
    "The three classes are:\n",
    "* `blocked` 🠊 0\n",
    "* `clear` 🠊 1\n",
    "* `partial` 🠊 2"
   ]
  },
  {
   "cell_type": "markdown",
   "metadata": {},
   "source": [
    "## Imports"
   ]
  },
  {
   "cell_type": "code",
   "execution_count": 7,
   "metadata": {},
   "outputs": [],
   "source": [
    "import tensorflow as tf\n",
    "from tensorflow.keras.models import Sequential\n",
    "from keras import layers\n",
    "from PIL import Image\n",
    "from glob import glob\n",
    "import tensorflow as tf\n",
    "import numpy as np\n",
    "import matplotlib.pyplot as plt\n",
    "import pathlib"
   ]
  },
  {
   "cell_type": "markdown",
   "metadata": {},
   "source": [
    "## Compute Average Image Size\n",
    "The average image size is computed to ensure that all images are of the same width and height. This will be done by resizing all the images to the average dimension."
   ]
  },
  {
   "cell_type": "code",
   "execution_count": 9,
   "metadata": {},
   "outputs": [],
   "source": [
    "widths = []\n",
    "heights = []\n",
    "\n",
    "for path in glob('data/**/*.JPG'):\n",
    "    with Image.open(path) as img:\n",
    "        widths.append(img.width)\n",
    "        heights.append(img.height)"
   ]
  },
  {
   "cell_type": "code",
   "execution_count": 10,
   "metadata": {},
   "outputs": [
    {
     "data": {
      "text/plain": [
       "(554, 732)"
      ]
     },
     "execution_count": 10,
     "metadata": {},
     "output_type": "execute_result"
    }
   ],
   "source": [
    "image_size = round(sum(widths) / len(widths)), round(sum(heights) / len(heights))\n",
    "image_size"
   ]
  },
  {
   "cell_type": "markdown",
   "metadata": {},
   "source": [
    "## Load and Prepare Data\n",
    "Load the data and split into two groups: *training* and *validation*"
   ]
  },
  {
   "cell_type": "code",
   "execution_count": 11,
   "metadata": {},
   "outputs": [
    {
     "name": "stdout",
     "output_type": "stream",
     "text": [
      "Found 51 files belonging to 3 classes.\n",
      "Using 41 files for training.\n",
      "Found 51 files belonging to 3 classes.\n",
      "Using 10 files for validation.\n"
     ]
    },
    {
     "data": {
      "text/plain": [
       "['blocked', 'clear', 'partial']"
      ]
     },
     "execution_count": 11,
     "metadata": {},
     "output_type": "execute_result"
    }
   ],
   "source": [
    "training_dataset = tf.keras.utils.image_dataset_from_directory(\"data\", validation_split=0.2, subset=\"training\", seed=321, image_size=image_size)\n",
    "validation_dataset = tf.keras.utils.image_dataset_from_directory(\"data\", validation_split=0.2, subset=\"validation\", seed=321, image_size=image_size)\n",
    "\n",
    "# Get list of classnames to verify that the class names were interpreted correctly\n",
    "training_dataset.class_names"
   ]
  },
  {
   "cell_type": "markdown",
   "metadata": {},
   "source": [
    "## Construction of the Model\n",
    "Contruct a convolutional neural network. A `Rescaling` Layer is added to normalize `RGB` values. "
   ]
  },
  {
   "cell_type": "code",
   "execution_count": 19,
   "metadata": {},
   "outputs": [
    {
     "name": "stdout",
     "output_type": "stream",
     "text": [
      "Model: \"sequential_1\"\n",
      "_________________________________________________________________\n",
      "Layer (type)                 Output Shape              Param #   \n",
      "=================================================================\n",
      "rescaling_1 (Rescaling)      (None, 554, 732, 3)       0         \n",
      "_________________________________________________________________\n",
      "conv2d_3 (Conv2D)            (None, 554, 732, 16)      448       \n",
      "_________________________________________________________________\n",
      "max_pooling2d_3 (MaxPooling2 (None, 277, 366, 16)      0         \n",
      "_________________________________________________________________\n",
      "conv2d_4 (Conv2D)            (None, 277, 366, 32)      4640      \n",
      "_________________________________________________________________\n",
      "max_pooling2d_4 (MaxPooling2 (None, 138, 183, 32)      0         \n",
      "_________________________________________________________________\n",
      "conv2d_5 (Conv2D)            (None, 138, 183, 64)      18496     \n",
      "_________________________________________________________________\n",
      "max_pooling2d_5 (MaxPooling2 (None, 69, 91, 64)        0         \n",
      "_________________________________________________________________\n",
      "flatten_1 (Flatten)          (None, 401856)            0         \n",
      "_________________________________________________________________\n",
      "dense_2 (Dense)              (None, 128)               51437696  \n",
      "_________________________________________________________________\n",
      "dense_3 (Dense)              (None, 3)                 387       \n",
      "=================================================================\n",
      "Total params: 51,461,667\n",
      "Trainable params: 51,461,667\n",
      "Non-trainable params: 0\n",
      "_________________________________________________________________\n"
     ]
    }
   ],
   "source": [
    "model = Sequential([\n",
    "    layers.Rescaling(1./255, input_shape=(*image_size, 3)),\n",
    "    layers.Conv2D(16, 3, padding='same', activation='tanh'),\n",
    "    layers.MaxPooling2D(),\n",
    "    layers.Conv2D(32, 3, padding='same', activation='tanh'),\n",
    "    layers.MaxPooling2D(),\n",
    "    layers.Conv2D(64, 3, padding='same', activation='tanh'),\n",
    "    layers.MaxPooling2D(),\n",
    "    layers.Flatten(),\n",
    "    layers.Dense(128, activation='relu'),\n",
    "    layers.Dense(3)\n",
    "])\n",
    "\n",
    "model.compile(optimizer='adam',\n",
    "              loss=tf.keras.losses.SparseCategoricalCrossentropy(from_logits=True),\n",
    "              metrics=['accuracy'])\n",
    "\n",
    "model.summary()"
   ]
  },
  {
   "cell_type": "markdown",
   "metadata": {},
   "source": [
    "## Training\n",
    "Begin training the model with `training_dataset` and `validation_dataset` for 15 epochs."
   ]
  },
  {
   "cell_type": "code",
   "execution_count": 20,
   "metadata": {},
   "outputs": [
    {
     "name": "stdout",
     "output_type": "stream",
     "text": [
      "Epoch 1/5\n",
      "2/2 [==============================] - 9s 2s/step - loss: 14.7254 - accuracy: 0.2195 - val_loss: 22.6975 - val_accuracy: 0.5000\n",
      "Epoch 2/5\n",
      "2/2 [==============================] - 8s 2s/step - loss: 25.5766 - accuracy: 0.3902 - val_loss: 6.1223 - val_accuracy: 0.1000\n",
      "Epoch 3/5\n",
      "2/2 [==============================] - 8s 2s/step - loss: 6.0455 - accuracy: 0.3415 - val_loss: 18.5702 - val_accuracy: 0.1000\n",
      "Epoch 4/5\n",
      "2/2 [==============================] - 9s 3s/step - loss: 8.2673 - accuracy: 0.3902 - val_loss: 9.4247 - val_accuracy: 0.4000\n",
      "Epoch 5/5\n",
      "2/2 [==============================] - 9s 2s/step - loss: 10.1067 - accuracy: 0.3171 - val_loss: 7.3501 - val_accuracy: 0.4000\n"
     ]
    }
   ],
   "source": [
    "epochs = 5\n",
    "\n",
    "history = model.fit(\n",
    "  training_dataset,\n",
    "  validation_data=validation_dataset,\n",
    "  epochs=epochs\n",
    ")"
   ]
  },
  {
   "cell_type": "markdown",
   "metadata": {},
   "source": [
    "## Training Analysis\n",
    "See how the model did. "
   ]
  },
  {
   "cell_type": "markdown",
   "metadata": {},
   "source": [
    "Collect metrics."
   ]
  },
  {
   "cell_type": "code",
   "execution_count": 21,
   "metadata": {},
   "outputs": [],
   "source": [
    "acc = history.history['accuracy']\n",
    "val_acc = history.history['val_accuracy']\n",
    "loss = history.history['loss']\n",
    "val_loss = history.history['val_loss']"
   ]
  },
  {
   "cell_type": "markdown",
   "metadata": {},
   "source": [
    "Graph the metrics"
   ]
  },
  {
   "cell_type": "code",
   "execution_count": 27,
   "metadata": {},
   "outputs": [
    {
     "data": {
      "image/png": "[encoded data removed]",
      "text/plain": [
       "<Figure size 720x360 with 2 Axes>"
      ]
     },
     "metadata": {
      "needs_background": "light"
     },
     "output_type": "display_data"
    }
   ],
   "source": [
    "plt.figure(figsize=(10, 5))\n",
    "plt.subplot(1, 2, 1)\n",
    "plt.plot(acc, label='Training Accuracy')\n",
    "plt.plot(val_acc, label='Validation Accuracy')\n",
    "plt.legend()\n",
    "plt.subplot(1, 2, 2)\n",
    "plt.plot(loss, label='Training Loss')\n",
    "plt.plot(val_loss, label='Validation Loss')\n",
    "plt.legend()\n",
    "plt.show()"
   ]
  },
  {
   "cell_type": "markdown",
   "metadata": {},
   "source": [
    "Print out metrics such as accuracy and loss."
   ]
  },
  {
   "cell_type": "code",
   "execution_count": 29,
   "metadata": {},
   "outputs": [
    {
     "name": "stdout",
     "output_type": "stream",
     "text": [
      "accuracy: 0.31707316637039185 val_accuracy: 0.4000000059604645\n",
      "loss 10.106748580932617 val_loss: 7.3501386642456055\n"
     ]
    }
   ],
   "source": [
    "print('accuracy:', acc[-1], 'val_accuracy:', val_acc[-1])\n",
    "print('loss', loss[-1], 'val_loss:', val_loss[-1])"
   ]
  },
  {
   "cell_type": "markdown",
   "metadata": {},
   "source": [
    "## Save the Model\n",
    "Save the model so that it can be loaded again for future use."
   ]
  },
  {
   "cell_type": "code",
   "execution_count": 31,
   "metadata": {},
   "outputs": [
    {
     "name": "stdout",
     "output_type": "stream",
     "text": [
      "INFO:tensorflow:Assets written to: C:\\Users\\SA\\Desktop\\Programming\\projects\\catch_basin_classifier\\saved_models\\model-0\\assets\n"
     ]
    }
   ],
   "source": [
    "saved_models = pathlib.Path.cwd() / 'saved_models'\n",
    "if not saved_models.exists():\n",
    "    saved_models.mkdir()\n",
    "\n",
    "\n",
    "model_dirs = list(saved_models.iterdir())\n",
    "if len(model_dirs) == 0: \n",
    "    model.save(saved_models / 'model-0')\n",
    "else:\n",
    "    num_strs = map(lambda x: x[len(\"model-\")], saved_models.iterdir())\n",
    "    num = list(map(lambda x: int(x), num_strs))[-1] + 1\n",
    "    model.save(saved_models / f'model-{num}')"
   ]
  }
 ],
 "metadata": {
  "interpreter": {
   "hash": "2df7cac29cf8c954e3b838d1ae23efc6dc513b8c37df1857e4dd2dc61cf098bb"
  },
  "kernelspec": {
   "display_name": "Python 3",
   "language": "python",
   "name": "python3"
  },
  "language_info": {
   "codemirror_mode": {
    "name": "ipython",
    "version": 3
   },
   "file_extension": ".py",
   "mimetype": "text/x-python",
   "name": "python",
   "nbconvert_exporter": "python",
   "pygments_lexer": "ipython3",
   "version": "3.9.9"
  }
 },
 "nbformat": 4,
 "nbformat_minor": 4
}

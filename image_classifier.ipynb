{
 "cells": [
  {
   "cell_type": "markdown",
   "metadata": {},
   "source": [
    "# Catch Basin Classifier\n",
    "An image classifier written in Python with Tensorflow. Classifies catch basins in 3 classes.\n",
    "\n",
    "The three classes are:\n",
    "* `blocked` 🠊 0\n",
    "* `clear` 🠊 1\n",
    "* `partial` 🠊 2"
   ]
  },
  {
   "cell_type": "markdown",
   "metadata": {},
   "source": [
    "## Imports"
   ]
  },
  {
   "cell_type": "code",
   "execution_count": 1,
   "metadata": {},
   "outputs": [],
   "source": [
    "import tensorflow as tf\n",
    "from keras.models import Sequential\n",
    "from keras import layers\n",
    "from keras.preprocessing.image import ImageDataGenerator, load_img, img_to_array\n",
    "from keras.losses import CategoricalCrossentropy\n",
    "from PIL import Image\n",
    "from glob import glob\n",
    "import tensorflow as tf\n",
    "import numpy as np\n",
    "import matplotlib.pyplot as plt\n",
    "import pathlib"
   ]
  },
  {
   "cell_type": "markdown",
   "metadata": {},
   "source": [
    "## Compute Average Image Size\n",
    "The average image size is computed to ensure that all images are of the same width and height. This will be done by resizing all the images to the average dimension."
   ]
  },
  {
   "cell_type": "code",
   "execution_count": 2,
   "metadata": {},
   "outputs": [],
   "source": [
    "widths = []\n",
    "heights = []\n",
    "\n",
    "for path in glob('data/**/**/*.JPG'):\n",
    "    with Image.open(path) as img:\n",
    "        widths.append(img.width)\n",
    "        heights.append(img.height)"
   ]
  },
  {
   "cell_type": "code",
   "execution_count": 3,
   "metadata": {},
   "outputs": [
    {
     "data": {
      "text/plain": [
       "(571, 741)"
      ]
     },
     "execution_count": 3,
     "metadata": {},
     "output_type": "execute_result"
    }
   ],
   "source": [
    "image_size = round(sum(widths) / len(widths)), round(sum(heights) / len(heights))\n",
    "image_size"
   ]
  },
  {
   "cell_type": "markdown",
   "metadata": {},
   "source": [
    "## Load and Prepare Data\n",
    "Load the data and split into two groups: *training* and *validation*"
   ]
  },
  {
   "cell_type": "code",
   "execution_count": 17,
   "metadata": {},
   "outputs": [
    {
     "name": "stdout",
     "output_type": "stream",
     "text": [
      "Found 257 images belonging to 3 classes.\n",
      "Found 50 images belonging to 3 classes.\n"
     ]
    }
   ],
   "source": [
    "# training_dataset = tf.keras.utils.image_dataset_from_directory(\"data\", validation_split=0.5, subset=\"training\", seed=321, image_size=image_size)\n",
    "# validation_dataset = tf.keras.utils.image_dataset_from_directory(\"data\", validation_split=0.5, subset=\"validation\", seed=321, image_size=image_size)\n",
    "\n",
    "# # Get list of classnames to verify that the class names were interpreted correctly\n",
    "# training_dataset.class_names\n",
    "\n",
    "training_datagen = ImageDataGenerator(rescale=1/255.0)\n",
    "training_generator = training_datagen.flow_from_directory(\n",
    "    'augmented_data',\n",
    "    classes=['blocked', 'clear', 'partial'],\n",
    "    batch_size=32,\n",
    "    class_mode='categorical',\n",
    "    target_size=image_size\n",
    ")\n",
    "\n",
    "validation_datagen = ImageDataGenerator(rescale=1/255.0)\n",
    "validation_generator = validation_datagen.flow_from_directory(\n",
    "    'validation_data',\n",
    "    classes=['blocked', 'clear', 'partial'],\n",
    "    batch_size=32,\n",
    "    class_mode='categorical',\n",
    "    target_size=image_size,\n",
    ")"
   ]
  },
  {
   "cell_type": "markdown",
   "metadata": {},
   "source": [
    "## Construction of the Model\n",
    "Contruct a convolutional neural network. A `Rescaling` Layer is added to normalize `RGB` values. "
   ]
  },
  {
   "cell_type": "code",
   "execution_count": 27,
   "metadata": {},
   "outputs": [
    {
     "name": "stdout",
     "output_type": "stream",
     "text": [
      "Model: \"sequential_5\"\n",
      "_________________________________________________________________\n",
      "Layer (type)                 Output Shape              Param #   \n",
      "=================================================================\n",
      "conv2d_15 (Conv2D)           (None, 571, 741, 16)      448       \n",
      "_________________________________________________________________\n",
      "max_pooling2d_15 (MaxPooling (None, 285, 370, 16)      0         \n",
      "_________________________________________________________________\n",
      "conv2d_16 (Conv2D)           (None, 285, 370, 32)      4640      \n",
      "_________________________________________________________________\n",
      "max_pooling2d_16 (MaxPooling (None, 142, 185, 32)      0         \n",
      "_________________________________________________________________\n",
      "conv2d_17 (Conv2D)           (None, 142, 185, 64)      18496     \n",
      "_________________________________________________________________\n",
      "max_pooling2d_17 (MaxPooling (None, 71, 92, 64)        0         \n",
      "_________________________________________________________________\n",
      "flatten_5 (Flatten)          (None, 418048)            0         \n",
      "_________________________________________________________________\n",
      "dense_10 (Dense)             (None, 128)               53510272  \n",
      "_________________________________________________________________\n",
      "dense_11 (Dense)             (None, 3)                 387       \n",
      "=================================================================\n",
      "Total params: 53,534,243\n",
      "Trainable params: 53,534,243\n",
      "Non-trainable params: 0\n",
      "_________________________________________________________________\n"
     ]
    }
   ],
   "source": [
    "model = Sequential([\n",
    "    layers.Conv2D(16, 3, padding='same', activation='relu', input_shape=(*image_size, 3)),\n",
    "    layers.MaxPooling2D(),\n",
    "    layers.Conv2D(32, 3, padding='same', activation='relu'),\n",
    "    layers.MaxPooling2D(),\n",
    "    layers.Conv2D(64, 3, padding='same', activation='relu'),\n",
    "    layers.MaxPooling2D(),\n",
    "    layers.Flatten(),\n",
    "    layers.Dense(128, activation='relu'),\n",
    "    layers.Dense(3)\n",
    "])\n",
    "\n",
    "model.compile(optimizer='adam',\n",
    "              loss=tf.keras.losses.CategoricalCrossentropy(from_logits=True),\n",
    "              metrics=['accuracy'])\n",
    "\n",
    "model.summary()\n"
   ]
  },
  {
   "cell_type": "markdown",
   "metadata": {},
   "source": [
    "## Training\n",
    "Begin training the model with `training_dataset` and `validation_dataset`"
   ]
  },
  {
   "cell_type": "code",
   "execution_count": 28,
   "metadata": {},
   "outputs": [
    {
     "name": "stdout",
     "output_type": "stream",
     "text": [
      "Epoch 1/10\n",
      "9/9 [==============================] - 50s 5s/step - loss: 13.8648 - accuracy: 0.3541 - val_loss: 1.0799 - val_accuracy: 0.3600\n",
      "Epoch 2/10\n",
      "9/9 [==============================] - 52s 6s/step - loss: 1.1411 - accuracy: 0.3230 - val_loss: 1.2560 - val_accuracy: 0.2200\n",
      "Epoch 3/10\n",
      "9/9 [==============================] - 52s 6s/step - loss: 1.0991 - accuracy: 0.3463 - val_loss: 1.0976 - val_accuracy: 0.3600\n",
      "Epoch 4/10\n",
      "9/9 [==============================] - 51s 6s/step - loss: 1.0988 - accuracy: 0.3307 - val_loss: 1.0971 - val_accuracy: 0.4200\n",
      "Epoch 5/10\n",
      "9/9 [==============================] - 52s 6s/step - loss: 1.0987 - accuracy: 0.3307 - val_loss: 1.0970 - val_accuracy: 0.4200\n",
      "Epoch 6/10\n",
      "9/9 [==============================] - 51s 6s/step - loss: 1.0987 - accuracy: 0.3307 - val_loss: 1.0967 - val_accuracy: 0.4200\n",
      "Epoch 7/10\n",
      "9/9 [==============================] - 52s 6s/step - loss: 1.0987 - accuracy: 0.3307 - val_loss: 1.0967 - val_accuracy: 0.4200\n",
      "Epoch 8/10\n",
      "9/9 [==============================] - 52s 6s/step - loss: 1.0988 - accuracy: 0.3307 - val_loss: 1.0966 - val_accuracy: 0.3600\n",
      "Epoch 9/10\n",
      "9/9 [==============================] - 51s 6s/step - loss: 1.0988 - accuracy: 0.3307 - val_loss: 1.0966 - val_accuracy: 0.3600\n",
      "Epoch 10/10\n",
      "9/9 [==============================] - 51s 6s/step - loss: 1.0988 - accuracy: 0.3307 - val_loss: 1.0968 - val_accuracy: 0.3600\n"
     ]
    }
   ],
   "source": [
    "epochs = 10\n",
    "\n",
    "history = model.fit(\n",
    "  training_generator,\n",
    "  validation_data=validation_generator,\n",
    "  epochs=epochs\n",
    ")"
   ]
  },
  {
   "cell_type": "markdown",
   "metadata": {},
   "source": [
    "## Training Analysis\n",
    "See how the model did. "
   ]
  },
  {
   "cell_type": "markdown",
   "metadata": {},
   "source": [
    "Collect metrics."
   ]
  },
  {
   "cell_type": "code",
   "execution_count": 29,
   "metadata": {},
   "outputs": [],
   "source": [
    "acc = history.history['accuracy']\n",
    "val_acc = history.history['val_accuracy']\n",
    "loss = history.history['loss']\n",
    "val_loss = history.history['val_loss']"
   ]
  },
  {
   "cell_type": "markdown",
   "metadata": {},
   "source": [
    "Graph the metrics"
   ]
  },
  {
   "cell_type": "code",
   "execution_count": 30,
   "metadata": {},
   "outputs": [
    {
     "data": {
      "image/png": "[encoded data removed]",
      "text/plain": [
       "<Figure size 720x360 with 2 Axes>"
      ]
     },
     "metadata": {
      "needs_background": "light"
     },
     "output_type": "display_data"
    }
   ],
   "source": [
    "plt.figure(figsize=(10, 5))\n",
    "plt.subplot(1, 2, 1)\n",
    "plt.plot(acc, label='Training Accuracy')\n",
    "plt.plot(val_acc, label='Validation Accuracy')\n",
    "plt.legend()\n",
    "plt.subplot(1, 2, 2)\n",
    "plt.plot(loss, label='Training Loss')\n",
    "plt.plot(val_loss, label='Validation Loss')\n",
    "plt.legend()\n",
    "plt.show()"
   ]
  },
  {
   "cell_type": "markdown",
   "metadata": {},
   "source": [
    "Print out metrics such as accuracy and loss."
   ]
  },
  {
   "cell_type": "code",
   "execution_count": 31,
   "metadata": {},
   "outputs": [
    {
     "name": "stdout",
     "output_type": "stream",
     "text": [
      "accuracy: 0.330739289522171 val_accuracy: 0.36000001430511475\n",
      "loss 1.0987552404403687 val_loss: 1.0967719554901123\n"
     ]
    }
   ],
   "source": [
    "print('accuracy:', acc[-1], 'val_accuracy:', val_acc[-1])\n",
    "print('loss', loss[-1], 'val_loss:', val_loss[-1])"
   ]
  },
  {
   "cell_type": "code",
   "execution_count": 37,
   "metadata": {},
   "outputs": [
    {
     "name": "stdout",
     "output_type": "stream",
     "text": [
      "[[-0.00988682  0.00863676  0.0060348 ]]\n"
     ]
    },
    {
     "data": {
      "text/plain": [
       "1"
      ]
     },
     "execution_count": 37,
     "metadata": {},
     "output_type": "execute_result"
    }
   ],
   "source": [
    "img = load_img('validation_images/GSV_Lents/08_Clear.JPG', target_size=image_size)\n",
    "img_arr = img_to_array(img)\n",
    "img_arr = np.expand_dims(img_arr, axis=0)\n",
    "img_arr /= 255.\n",
    "pred = model.predict(img_arr)\n",
    "print(pred)\n",
    "np.argmax(pred)"
   ]
  },
  {
   "cell_type": "markdown",
   "metadata": {},
   "source": [
    "## Save the Model\n",
    "Save the model so that it can be loaded again for future use."
   ]
  },
  {
   "cell_type": "code",
   "execution_count": 31,
   "metadata": {},
   "outputs": [
    {
     "name": "stdout",
     "output_type": "stream",
     "text": [
      "INFO:tensorflow:Assets written to: C:\\Users\\SA\\Desktop\\Programming\\projects\\catch_basin_classifier\\saved_models\\model-0\\assets\n"
     ]
    }
   ],
   "source": [
    "saved_models = pathlib.Path.cwd() / 'saved_models'\n",
    "if not saved_models.exists():\n",
    "    saved_models.mkdir()\n",
    "\n",
    "\n",
    "model_dirs = list(saved_models.iterdir())\n",
    "if len(model_dirs) == 0: \n",
    "    model.save(saved_models / 'model-0')\n",
    "else:\n",
    "    num_strs = map(lambda x: x[len(\"model-\")], saved_models.iterdir())\n",
    "    num = max(list(map(lambda x: int(x), num_strs))) + 1\n",
    "    model.save(saved_models / f'model-{num}')"
   ]
  }
 ],
 "metadata": {
  "interpreter": {
   "hash": "2df7cac29cf8c954e3b838d1ae23efc6dc513b8c37df1857e4dd2dc61cf098bb"
  },
  "kernelspec": {
   "display_name": "Python 3",
   "language": "python",
   "name": "python3"
  },
  "language_info": {
   "codemirror_mode": {
    "name": "ipython",
    "version": 3
   },
   "file_extension": ".py",
   "mimetype": "text/x-python",
   "name": "python",
   "nbconvert_exporter": "python",
   "pygments_lexer": "ipython3",
   "version": "3.9.9"
  }
 },
 "nbformat": 4,
 "nbformat_minor": 4
}
